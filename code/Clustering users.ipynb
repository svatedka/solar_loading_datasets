{
 "cells": [
  {
   "cell_type": "code",
   "execution_count": null,
   "metadata": {},
   "outputs": [],
   "source": [
    "import numpy as np\n",
    "import matplotlib.pyplot as plt\n",
    "import pandas as pd"
   ]
  },
  {
   "cell_type": "markdown",
   "metadata": {},
   "source": [
    "The code below loads one dataset. \n",
    "The data is in the form of an nxm array, with each column representing timeseries data.\n",
    "\n",
    "Eg., timeseries_data.TimestampLocal is a column containing all times when the samples were taken. The variable timeseries.UsageKW is the timeseries data (a vector) of usage in KW."
   ]
  },
  {
   "cell_type": "code",
   "execution_count": null,
   "metadata": {},
   "outputs": [],
   "source": [
    "csvfile_path = '../solar_dataset/microgrid_new/'+str(1)+'.csv' #this should point to the location of the dataset\n",
    "timeseries_data = pd.read_csv(csvfile_path)\n",
    "print(timeseries_data.describe()) #summary of the data\n",
    "print('---------------------------------\\nColumns:')\n",
    "print(timeseries_data.columns) # lists column information"
   ]
  },
  {
   "cell_type": "markdown",
   "metadata": {},
   "source": [
    "The code below loads 441 different datasets, anc converts them to numpy arrays (easier to work with)"
   ]
  },
  {
   "cell_type": "code",
   "execution_count": null,
   "metadata": {},
   "outputs": [],
   "source": [
    "consumption_data = np.zeros([442,1440])\n",
    "for i in range(441):\n",
    "    csvfile_path = '../solar_dataset/microgrid_new/'+str(i+1)+'.csv'\n",
    "    timeseries_data = pd.read_csv(csvfile_path)\n",
    "    # convert pandas arrays to numpy array\n",
    "    temp_str = timeseries_data.UsageKW.values\n",
    "    print(i+1,np.size(temp_str))\n",
    "    consumption_data[i] = temp_str.astype(np.float)\n",
    "    "
   ]
  },
  {
   "cell_type": "code",
   "execution_count": null,
   "metadata": {},
   "outputs": [],
   "source": [
    "# plot some of this stuff\n",
    "plt.plot(consumption_data[4],'r')\n",
    "plt.plot(consumption_data[10],'b')\n",
    "plt.plot(consumption_data[130],'g')\n",
    "plt.plot(consumption_data[310],'m')\n",
    "plt.show()\n"
   ]
  },
  {
   "cell_type": "code",
   "execution_count": null,
   "metadata": {},
   "outputs": [],
   "source": [
    "# model energy generation process (bad model)\n",
    "production_times = np.arange(np.size(consumption_data[1])) \n",
    "production_pattern = np.exp(-(production_times-600)**2/(2*50**2))\n",
    "production_pattern = production_pattern/np.max(production_pattern) * 4\n",
    "plt.plot(production_pattern)\n",
    "plt.show()"
   ]
  },
  {
   "cell_type": "code",
   "execution_count": null,
   "metadata": {},
   "outputs": [],
   "source": []
  },
  {
   "cell_type": "code",
   "execution_count": null,
   "metadata": {},
   "outputs": [],
   "source": []
  }
 ],
 "metadata": {
  "kernelspec": {
   "display_name": "Python 2",
   "language": "python",
   "name": "python2"
  },
  "language_info": {
   "codemirror_mode": {
    "name": "ipython",
    "version": 2
   },
   "file_extension": ".py",
   "mimetype": "text/x-python",
   "name": "python",
   "nbconvert_exporter": "python",
   "pygments_lexer": "ipython2",
   "version": "2.7.15"
  },
  "latex_envs": {
   "LaTeX_envs_menu_present": true,
   "autoclose": false,
   "autocomplete": true,
   "bibliofile": "biblio.bib",
   "cite_by": "apalike",
   "current_citInitial": 1,
   "eqLabelWithNumbers": true,
   "eqNumInitial": 1,
   "hotkeys": {
    "equation": "Ctrl-E",
    "itemize": "Ctrl-I"
   },
   "labels_anchors": false,
   "latex_user_defs": false,
   "report_style_numbering": false,
   "user_envs_cfg": false
  }
 },
 "nbformat": 4,
 "nbformat_minor": 2
}
